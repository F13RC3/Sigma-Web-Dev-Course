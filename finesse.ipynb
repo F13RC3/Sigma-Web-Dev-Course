{
 "cells": [
  {
   "cell_type": "code",
   "execution_count": 27,
   "metadata": {},
   "outputs": [
    {
     "name": "stdout",
     "output_type": "stream",
     "text": [
      "False\n"
     ]
    }
   ],
   "source": [
    "a = int(input('Enter a number'))\n",
    "b=a\n",
    "rev_num = 0\n",
    "# temp*10\n",
    "# temp*10+a/10\n",
    "while a>0:\n",
    "    temp = a%10\n",
    "    rev_num  = rev_num*10 + temp\n",
    "    a = a//10\n",
    "print(int(rev_num)==b)\n"
   ]
  },
  {
   "cell_type": "code",
   "execution_count": 28,
   "metadata": {},
   "outputs": [
    {
     "name": "stdout",
     "output_type": "stream",
     "text": [
      "199\n"
     ]
    }
   ],
   "source": [
    "while a>rev_num :\n",
    "    rev_num = rev_num*10+a%10\n",
    "    a //=10\n",
    "\n",
    "print(rev_num)"
   ]
  },
  {
   "cell_type": "code",
   "execution_count": 32,
   "metadata": {},
   "outputs": [
    {
     "name": "stdout",
     "output_type": "stream",
     "text": [
      "[3, 2] 1\n",
      "[1, 4] 2\n",
      "[4, 1] 3\n"
     ]
    }
   ],
   "source": [
    "li = [3,2,1,4,1]\n",
    "ke = 5\n",
    "n = len(li)\n",
    "total = 0\n",
    "for i in range(n):\n",
    "    for j in range(i+1, n+1):\n",
    "        if sum(li[i:j])==ke:\n",
    "            total+=1\n",
    "            print(li[i:j], total)"
   ]
  },
  {
   "cell_type": "code",
   "execution_count": 1,
   "metadata": {},
   "outputs": [
    {
     "ename": "NameError",
     "evalue": "name 'reduce' is not defined",
     "output_type": "error",
     "traceback": [
      "\u001b[0;31m---------------------------------------------------------------------------\u001b[0m",
      "\u001b[0;31mNameError\u001b[0m                                 Traceback (most recent call last)",
      "Cell \u001b[0;32mIn[1], line 1\u001b[0m\n\u001b[0;32m----> 1\u001b[0m \u001b[38;5;28mint\u001b[39m(\u001b[43mreduce\u001b[49m(\u001b[38;5;28;01mlambda\u001b[39;00m x,y:x\u001b[38;5;241m+\u001b[39my, li))\n",
      "\u001b[0;31mNameError\u001b[0m: name 'reduce' is not defined"
     ]
    }
   ],
   "source": []
  },
  {
   "cell_type": "code",
   "execution_count": 3,
   "metadata": {},
   "outputs": [
    {
     "name": "stdout",
     "output_type": "stream",
     "text": [
      "[1, 2, 3]\n",
      "[4, 5, 6]\n",
      "[7, 8, 9]\n"
     ]
    }
   ],
   "source": [
    "li =[[1,2,3],[4,5,6],[7,8,9]]\n",
    "for i in range(len(li)):\n",
    "    print(li[i])"
   ]
  },
  {
   "cell_type": "code",
   "execution_count": 6,
   "metadata": {},
   "outputs": [
    {
     "name": "stdout",
     "output_type": "stream",
     "text": [
      "[1, 2, 3, 6, 9, 8, 7, 4, 5, 4]\n"
     ]
    }
   ],
   "source": [
    "t,b = 0, len(li)-1\n",
    "l,r = 0, len(li[0])-1\n",
    "result = []\n",
    "while t<=b and l <=r:\n",
    "    for i in range(l, r+1):\n",
    "        result.append(li[t][i])\n",
    "    t+=1\n",
    "    for i in range(t, b+1):\n",
    "        result.append(li[i][r])\n",
    "    r-=1\n",
    "    # if t<=b:\n",
    "    for i in range(r,l-1,-1):\n",
    "        result.append(li[b][i])\n",
    "    b-=1\n",
    "print(result)"
   ]
  },
  {
   "cell_type": "code",
   "execution_count": null,
   "metadata": {},
   "outputs": [],
   "source": []
  }
 ],
 "metadata": {
  "kernelspec": {
   "display_name": "base",
   "language": "python",
   "name": "python3"
  },
  "language_info": {
   "codemirror_mode": {
    "name": "ipython",
    "version": 3
   },
   "file_extension": ".py",
   "mimetype": "text/x-python",
   "name": "python",
   "nbconvert_exporter": "python",
   "pygments_lexer": "ipython3",
   "version": "3.12.4"
  }
 },
 "nbformat": 4,
 "nbformat_minor": 2
}
