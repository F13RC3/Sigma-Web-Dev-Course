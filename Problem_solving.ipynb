{
 "cells": [
  {
   "cell_type": "code",
   "execution_count": null,
   "metadata": {},
   "outputs": [],
   "source": [
    "# Given an array a and integer n. Rotate the array towards left n times.\n",
    "#    input a = [1,2,3,4,5], n = 2, output = [3,4,5,1,2]\n",
    "#          a = [1,2,3,4,5], n = 4 , output = [5 1 2 3 4], explanantion - [1 2 3 4 5] -> [2 3 4 5 1] -> [3 4 5 1 2] -> [4 5 1 2 3] -> [5 1 2 3 4]"
   ]
  },
  {
   "cell_type": "code",
   "execution_count": 15,
   "metadata": {},
   "outputs": [
    {
     "data": {
      "text/plain": [
       "[3, 4, 5, 1, 2]"
      ]
     },
     "execution_count": 15,
     "metadata": {},
     "output_type": "execute_result"
    }
   ],
   "source": [
    "a = [1,2,3,4,5]\n",
    "n =2\n",
    "a[n:]+a[:n]"
   ]
  },
  {
   "cell_type": "code",
   "execution_count": 9,
   "metadata": {},
   "outputs": [
    {
     "name": "stdout",
     "output_type": "stream",
     "text": [
      "[3, 4, 5, 1, 2]\n"
     ]
    }
   ],
   "source": [
    "a = [1,2,3,4,5]\n",
    "n =2\n",
    "for i in range(n):\n",
    "    temp = a[0]\n",
    "    a = a[1:]\n",
    "    a.append(temp)\n",
    "print(a)"
   ]
  },
  {
   "cell_type": "code",
   "execution_count": null,
   "metadata": {},
   "outputs": [],
   "source": [
    "# Write a function to find the longest common prefix string amongst an array of strings.\n",
    "#    If there is no common prefix, return an empty string \"\".\n",
    "#    Input: strs = [\"flower\",\"flow\",\"flight\"]\n",
    "#    Output: \"fl\""
   ]
  },
  {
   "cell_type": "code",
   "execution_count": 2,
   "metadata": {},
   "outputs": [],
   "source": [
    "strs = [\"flower\",\"flow\",\"flight\"]\n",
    "outpur = [i for i in strs[0] if i in strs[1]]"
   ]
  },
  {
   "cell_type": "code",
   "execution_count": 12,
   "metadata": {},
   "outputs": [
    {
     "name": "stdout",
     "output_type": "stream",
     "text": [
      "fl\n"
     ]
    }
   ],
   "source": [
    "common_str = ''\n",
    "for st in zip(*strs):\n",
    "    if len(set(st)) == 1:\n",
    "        common_str+=st[0]\n",
    "    else:\n",
    "        break\n",
    "print(common_str)"
   ]
  },
  {
   "cell_type": "code",
   "execution_count": 23,
   "metadata": {},
   "outputs": [
    {
     "name": "stdout",
     "output_type": "stream",
     "text": [
      "['f', 'f', 'f']\n",
      "['l', 'l', 'l']\n",
      "['o', 'o', 'i']\n"
     ]
    },
    {
     "data": {
      "text/plain": [
       "'fl'"
      ]
     },
     "execution_count": 23,
     "metadata": {},
     "output_type": "execute_result"
    }
   ],
   "source": [
    "prefix = \"\"\n",
    "for i in range(len(min(strs, key=len))):\n",
    "    chars = [s[i] for s in strs]\n",
    "    if len(set(chars)) == 1:\n",
    "        prefix += chars[0]\n",
    "    else:\n",
    "        break\n",
    "prefix"
   ]
  },
  {
   "cell_type": "code",
   "execution_count": 7,
   "metadata": {},
   "outputs": [
    {
     "name": "stdout",
     "output_type": "stream",
     "text": [
      "A\n",
      "ABC\n",
      "DE\n"
     ]
    }
   ],
   "source": [
    "# MERGE THE TOOLS HACKERRANK\n",
    "def merge_the_tools(string, k):\n",
    "    # your code goes here\n",
    "    i = 0\n",
    "    while i < len(string):\n",
    "        word1 = \"\".join({value:\"\" for value in string[i:i+k]})\n",
    "        i = i+k\n",
    "        print(word1)\n",
    "\n",
    "\n",
    "if __name__ == '__main__':\n",
    "    string, k = \"AAABCADDE\", 3\n",
    "    merge_the_tools(string, k)"
   ]
  },
  {
   "cell_type": "code",
   "execution_count": 13,
   "metadata": {},
   "outputs": [
    {
     "name": "stdout",
     "output_type": "stream",
     "text": [
      "10 ['2', '3', '4', '5', '6', '8', '7', '6', '5', '18'] 6\n",
      "Counter({'5': 2, '6': 2, '2': 1, '3': 1, '4': 1, '8': 1, '7': 1, '18': 1})\n",
      "200\n"
     ]
    }
   ],
   "source": [
    "# collections.Counter() HACKERRANK\n",
    "# Enter your code here. Read input from STDIN. Print output to STDOUT\n",
    "from collections import Counter\n",
    "X = int(input())\n",
    "shoe_sizes = input().split()\n",
    "N = int(input())\n",
    "print(X, shoe_sizes, N)\n",
    "shoe_size_count = Counter(shoe_sizes)\n",
    "print(shoe_size_count)\n",
    "amount = 0\n",
    "for i in range(N):\n",
    "    size_price = input().split()\n",
    "    size = size_price[0]\n",
    "    price = int(size_price[1])\n",
    "    if size in shoe_size_count.keys() and shoe_size_count[size]>0:\n",
    "        amount += price\n",
    "        shoe_size_count[size] -= 1\n",
    "print(amount)"
   ]
  },
  {
   "cell_type": "code",
   "execution_count": 45,
   "metadata": {},
   "outputs": [
    {
     "name": "stdout",
     "output_type": "stream",
     "text": [
      "b 3\n",
      "a 2\n",
      "c 2\n",
      "d 1\n",
      "e 1\n"
     ]
    }
   ],
   "source": [
    "# Company Logo HACKERRANK\n",
    "import math\n",
    "import os\n",
    "import random\n",
    "import re\n",
    "import sys\n",
    "from collections import Counter, OrderedDict\n",
    "\n",
    "if __name__ == '__main__':\n",
    "    s = input()\n",
    "dict_list = Counter(list(s)).most_common()\n",
    "result = sorted(dict_list, key=lambda item:(item[1]*-1, item[0]))\n",
    "for res in result:\n",
    "    print(res[0], res[1])\n"
   ]
  },
  {
   "cell_type": "code",
   "execution_count": 98,
   "metadata": {},
   "outputs": [
    {
     "name": "stdout",
     "output_type": "stream",
     "text": [
      "(-1, -1)\n",
      "-----Another Solution------\n",
      "(-1, -1)\n"
     ]
    }
   ],
   "source": [
    "# start() & end() HACKERRANK\n",
    "import re\n",
    "string = 'hbcasckjabchsdcsdcgvdsjhvcb'\n",
    "search = 'q'\n",
    "pattern = re.compile(search)\n",
    "match = re.search(search, string)\n",
    "if not match: print('(-1, -1)')\n",
    "while match:\n",
    "    print(f'({match.start()}, {match.end()-1})')\n",
    "    match = pattern.search(string, match.start() + 1)\n",
    "\n",
    "# ANother Solution\n",
    "print('-----Another Solution------')\n",
    "match = re.finditer(r'(?='+search+')', string)\n",
    "found = 0\n",
    "for m in match:\n",
    "    print(f'({m.start()}, {m.start()+len(search)-1})')\n",
    "    found = 1\n",
    "if found ==0 :\n",
    "    print('(-1, -1)')"
   ]
  },
  {
   "cell_type": "code",
   "execution_count": 11,
   "metadata": {},
   "outputs": [
    {
     "name": "stdout",
     "output_type": "stream",
     "text": [
      "[1, 2, 2, 3, 5, 6]\n"
     ]
    }
   ],
   "source": [
    "# MERGE 2 SORTED ARRAYS LEETCODE\n",
    "nums1 = [1,2,3,0,0,0]\n",
    "m = 3\n",
    "nums2 = [2,5,6]\n",
    "n = 3\n",
    "# last index of nums1\n",
    "i,j, last = m-1,n-1,m+n-1\n",
    "# Merge in reverse order\n",
    "while j>=0 :\n",
    "    if nums1[i] > nums2[j] and i>=0:\n",
    "        nums1[last] = nums1[i]\n",
    "        i-=1\n",
    "    # including fill nums1 with leftover of nums2\n",
    "    else:\n",
    "        nums1[last] = nums2[j]\n",
    "        j-=1\n",
    "    last -=1\n",
    "print(nums1)"
   ]
  },
  {
   "cell_type": "code",
   "execution_count": 1,
   "metadata": {},
   "outputs": [
    {
     "name": "stdout",
     "output_type": "stream",
     "text": [
      "206\n"
     ]
    }
   ],
   "source": [
    "# MAXIMIZE IT! HACKERRANK\n",
    "from itertools import product\n",
    "k, m = list(map(int, input().split()))\n",
    "n = (list(map(int,input().split()))[1:] for _ in range(k))\n",
    "s = map(lambda x:sum(i**2 for i in x)%m, product(*n))\n",
    "print(max(s))\n"
   ]
  },
  {
   "cell_type": "code",
   "execution_count": 13,
   "metadata": {},
   "outputs": [
    {
     "name": "stdout",
     "output_type": "stream",
     "text": [
      "1 0\n",
      "2 1\n",
      "2 [2, 2, 2, 3]\n"
     ]
    }
   ],
   "source": [
    "# 27. Remove Element\n",
    "nums = [3,2,2,3]\n",
    "val = 3\n",
    "index = 0\n",
    "for i in range(len(nums)):\n",
    "    if nums[i] != val:\n",
    "        print(i, index)\n",
    "        nums[index] = nums[i]\n",
    "        index += 1\n",
    "print(index, nums)"
   ]
  },
  {
   "cell_type": "code",
   "execution_count": null,
   "metadata": {},
   "outputs": [],
   "source": [
    "# Decorator 2 Name Directory Hackerrank\n",
    "import operator\n",
    "\n",
    "def person_lister(f):\n",
    "    def inner(people):\n",
    "        # complete the function\n",
    "        return [f(p) for p in sorted(people, key=lambda x: int(x[2]))]\n",
    "    return inner\n",
    "\n",
    "@person_lister\n",
    "def name_format(person):\n",
    "    return (\"Mr. \" if person[3] == \"M\" else \"Ms. \") + person[0] + \" \" + person[1]\n",
    "\n",
    "if __name__ == '__main__':\n",
    "    people = [input().split() for i in range(int(input()))]\n",
    "    print(*name_format(people), sep='\\n')"
   ]
  },
  {
   "cell_type": "code",
   "execution_count": 4,
   "metadata": {},
   "outputs": [],
   "source": [
    "# MATRIX SCRIPT HACKERRANK\n",
    "\n",
    "import math\n",
    "import os\n",
    "import random\n",
    "import re\n",
    "import sys\n",
    "\n",
    "\n",
    "\n",
    "\n",
    "first_multiple_input = input().rstrip().split()\n",
    "\n",
    "n = int(first_multiple_input[0])\n",
    "\n",
    "m = int(first_multiple_input[1])\n",
    "\n",
    "matrix = []\n",
    "\n",
    "for _ in range(n):\n",
    "    matrix_item = input()\n",
    "    matrix.append(matrix_item)\n",
    "strs = ''\n",
    "for j in range(m):\n",
    "    for i in range(n):\n",
    "        strs+=matrix[i][j]\n",
    "print(re.sub(r\"(?<=\\w)([^\\w\\d]+)(?=\\w)\",' ', strs))\n"
   ]
  },
  {
   "cell_type": "code",
   "execution_count": 1,
   "metadata": {},
   "outputs": [
    {
     "name": "stdout",
     "output_type": "stream",
     "text": [
      "Stuart 7501500\n"
     ]
    }
   ],
   "source": [
    "# Minion Game Hackerrank\n",
    "def minion_game(string):\n",
    "    # your code goes here\n",
    "    vowels = 'AEIOU'\n",
    "    str_length = len(string)\n",
    "    kevin_score, stuart_score = 0, 0\n",
    "\n",
    "    for i in range(str_length):\n",
    "        if s[i] in vowels:\n",
    "            kevin_score += (str_length - i)\n",
    "        else:\n",
    "            stuart_score += (str_length - i)\n",
    "\n",
    "    if kevin_score > stuart_score:\n",
    "        print(\"Kevin\", kevin_score)\n",
    "    elif kevin_score < stuart_score:\n",
    "        print(\"Stuart\", stuart_score)\n",
    "    else:\n",
    "        print(\"Draw\")\n",
    "\n",
    "s = 'NANANNANANNANANNANANNANANNANANNANANNANANNANANNANANNANANNANANNANANNANANNANANNANANNANANNANANNANANNANANNANANNANANNANANNANANNANANNANANNANANNANANNANANNANANNANANNANANNANANNANANNANANNANANNANANNANANNANANNANANNANANNANANNANANNANANNANANNANANNANANNANANNANANNANANNANANNANANNANANNANANNANANNANANNANANNANANNANANNANANNANANNANANNANANNANANNANANNANANNANANNANANNANANNANANNANANNANANNANANNANANNANANNANANNANANNANANNANANNANANNANANNANANNANANNANANNANANNANANNANANNANANNANANNANANNANANNANANNANANNANANNANANNANANNANANNANANNANANNANANNANANNANANNANANNANANNANANNANANNANANNANANNANANNANANNANANNANANNANANNANANNANANNANANNANANNANANNANANNANANNANANNANANNANANNANANNANANNANANNANANNANANNANANNANANNANANNANANNANANNANANNANANNANANNANANNANANNANANNANANNANANNANANNANANNANANNANANNANANNANANNANANNANANNANANNANANNANANNANANNANANNANANNANANNANANNANANNANANNANANNANANNANANNANANNANANNANANNANANNANANNANANNANANNANANNANANNANANNANANNANANNANANNANANNANANNANANNANANNANANNANANNANANNANANNANANNANANNANANNANANNANANNANANNANANNANANNANANNANANNANANNANANNANANNANANNANANNANANNANANNANANNANANNANANNANANNANANNANANNANANNANANNANANNANANNANANNANANNANANNANANNANANNANANNANANNANANNANANNANANNANANNANANNANANNANANNANANNANANNANANNANANNANANNANANNANANNANANNANANNANANNANANNANANNANANNANANNANANNANANNANANNANANNANANNANANNANANNANANNANANNANANNANANNANANNANANNANANNANANNANANNANANNANANNANANNANANNANANNANANNANANNANANNANANNANANNANANNANANNANANNANANNANANNANANNANANNANANNANANNANANNANANNANANNANANNANANNANANNANANNANANNANANNANANNANANNANANNANANNANANNANANNANANNANANNANANNANANNANANNANANNANANNANANNANANNANANNANANNANANNANANNANANNANANNANANNANANNANANNANANNANANNANANNANANNANANNANANNANANNANANNANANNANANNANANNANANNANANNANANNANANNANANNANANNANANNANANNANANNANANNANANNANANNANANNANANNANANNANANNANANNANANNANANNANANNANANNANANNANANNANANNANANNANANNANANNANANNANANNANANNANANNANANNANANNANANNANANNANANNANANNANANNANANNANANNANANNANANNANANNANANNANANNANANNANANNANANNANANNANANNANANNANANNANANNANANNANANNANANNANANNANANNANANNANANNANANNANANNANANNANANNANANNANANNANANNANANNANANNANANNANANNANANNANANNANANNANANNANANNANANNANANNANANNANANNANANNANANNANANNANANNANANNANANNANANNANANNANANNANANNANANNANANNANANNANANNANANNANANNANANNANANNANANNANANNANANNANANNANANNANANNANANNANANNANANNANANNANANNANANNANANNANANNANANNANANNANANNANANNANANNANANNANANNANANNANANNANANNANANNANANNANANNANANNANANNANANNANANNANANNANANNANANNANANNANANNANANNANANNANANNANANNANANNANANNANANNANANNANANNANANNANANNANANNANANNANANNANANNANANNANANNANANNANANNANANNANANNANANNANANNANANNANANNANANNANANNANANNANANNANANNANANNANANNANANNANANNANANNANANNANANNANANNANANNANANNANANNANANNANANNANANNANANNANANNANANNANANNANANNANANNANANNANANNANANNANANNANANNANANNANANNANANNANANNANANNANANNANANNANANNANANNANANNANANNANANNANANNANANNANANNANANNANANNANANNANANNANANNANANNANANNANANNANANNANANNANANNANANNANANNANANNANANNANANNANANNANANNANANNANANNANANNANANNANANNANANNANANNANANNANANNANANNANANNANANNANANNANANNANANNANANNANANNANANNANANNANANNANANNANANNANANNANANNANANNANANNANANNANANNANANNANANNANANNANANNANANNANANNANANNANANNANANNANANNANANNANANNANANNANANNANANNANANNANANNANANNANANNANANNANANNANANNANANNANANNANANNANANNANANNANANNANANNANANNANANNANANNANANNANANNANANNANANNANANNANANNANANNANANNANANNANANNANANNANANNANANNANANNANANNANANNANANNANANNANANNANANNANANNANANNANANNANANNANANNANANNANANNANANNANANNANANNANANNANANNANANNANANNANANNANANNANANNANANNANANNANANNANANNANANNANANNANANNANANNANANNANANNANANNANANNANANNANANNANANNANANNANANNANANNANANNANANNANANNANANNANANNANANNANANNANANNANANNANANNANANNANANNANANNANANNANANNANANNANANNANANNANANNANANNANANNANANNANANNANANNANANNANANNANANNANANNANANNANANNANANNANANNANANNANANNANANNANANNANANNANANNANANNANANNANANNANANNANANNANANNANANNANANNANANNANANNANANNANANNANANNANANNANANNANANNANANNANANNANANNANANNANANNANANNANANNANANNANANNANANNANANNANANNANANNANANNANANNANANNANANNANANNANANNANANNANANNANANNANANNANANNANANNANANNANANNANANNANANNANANNANANNANANNANANNANANNANANNANANNANANNANANNANANNANANNANANNANANNANANNANANNANANNANANNANANNANANNANANNANANNANANNANANNANANNANANNANANNANANNANANNANANNANANNANANNANANNANANNANANNANANNANANNANANNANANNANANNANANNANANNANANNANANNANANNANANNANANNANANNANANNANANNANANNANANNANANNANANNANANNANANNANANNANANNANANNANANNANANNANANNANANNANANNANANNANANNANANNANANNANANNANANNANANNANANNANANNANANNANANNANANNANANNANANNANANNANANNANANNANANNANANNANANNANANNANANNANANNANANNANANNANANNANANNANANNANANNANANNANANNANANNANANNANANNANANNANANNANANNANANNANANNANANNANANNANANNANANNANANNANANNANANNANANNANANNANANNANANNANANNANANNANANNANANNANANNANANNANANNANANNANANNANANNANANNANANNANANNANANNANANNANANNANANNANANNANANNANANNANANNANANNANANNANANNANANNANANNANANNANANNANANNANANNANANNANANNANANNANANNANANNANANNANANNANANNANANNANANNANANNANANNANANNANANNANANNANANNANANNANANNANANNANANNANANNANANNANANNANANNANANNANANNANANNANANNANANNANANNANANNANANNANANNANANNANANNANANNANANNANANNANANNANANNANANNANANNANANNANANNANANNANANNANANNANANNANANNANANNANANNANANNANANNANANNANANNANANNANANNANANNANANNANANNANANNANANNANANNANANNANANNANANNANANNANANNANANNANANNANANNANANNANANNANANNANANNANANNANANNANANNANANNANANNANANNANANNANANNANANNANANNANANNANANNANANNANANNANANNANANNANANNANANNANANNANANNANANNANANNANANNANANNANANNANANNANANNANANNANANNANANNANANNANANNANANNANANNANANNANANNANANNANANNANANNANANNANANNANANNANANNANANNANAN'\n",
    "minion_game(s)"
   ]
  },
  {
   "cell_type": "code",
   "execution_count": 11,
   "metadata": {},
   "outputs": [
    {
     "name": "stdout",
     "output_type": "stream",
     "text": [
      "['a', 'as', 'ash', 'ashi', 'ashis', 'ashish', 's', 'sh', 'shi', 'shis', 'shish', 'h', 'hi', 'his', 'hish', 'i', 'is', 'ish', 's', 'sh', 'h']\n"
     ]
    }
   ],
   "source": [
    "from itertools import combinations\n",
    "string = 'ashish'\n",
    "print([string[x:y] for x,y in combinations(range(len(string)+1), r=2)])"
   ]
  },
  {
   "cell_type": "code",
   "execution_count": 23,
   "metadata": {},
   "outputs": [
    {
     "name": "stdout",
     "output_type": "stream",
     "text": [
      "6.0000   6 -3 4.816\n"
     ]
    }
   ],
   "source": [
    "a = 6\n",
    "b = 4.816\n",
    "c = -3\n",
    "str1 = '{0:.4f} {0:-3d} {2} {1}'.format(a,b,c)\n",
    "print(str1)\n"
   ]
  },
  {
   "cell_type": "code",
   "execution_count": 3,
   "metadata": {},
   "outputs": [
    {
     "name": "stdout",
     "output_type": "stream",
     "text": [
      "c = 5 and n= 9\n",
      "2\n",
      "c = 4 and n= 11\n",
      "2\n",
      "c = 6 and n= 11\n",
      "4\n",
      "c = 4 and n= 6\n",
      "-1\n",
      "c = 2 and n= 9\n",
      "0\n"
     ]
    }
   ],
   "source": [
    "# Codility Bucket problem\n",
    "def solution(buckets):\n",
    "    # Implement your solution here\n",
    "    n = len(buckets)\n",
    "    pos = set([i for i in range(n) if buckets[i] == 'B'])\n",
    "    c = len(pos)\n",
    "    print(f'c = {c} and n= {n}')\n",
    "    if c> (n+1)//2:\n",
    "        return -1\n",
    "    \n",
    "    ans = n\n",
    "    for start in range(n-2*c + 2):\n",
    "        curr = 0\n",
    "        for j in range(start, start+2*c,2):\n",
    "            if j not in pos:\n",
    "                curr +=1\n",
    "        ans = min(ans, curr)\n",
    "    return ans\n",
    "print(solution('B.BB.B..B'))  # returns 2\n",
    "print(solution('..B....B.BB'))  # returns 2\n",
    "print(solution('BB.B.BBB...'))  # returns 4\n",
    "print(solution('.BBB.B'))  # returns -1\n",
    "print(solution('....B.B..'))  # returns 0"
   ]
  }
 ],
 "metadata": {
  "kernelspec": {
   "display_name": "base",
   "language": "python",
   "name": "python3"
  },
  "language_info": {
   "codemirror_mode": {
    "name": "ipython",
    "version": 3
   },
   "file_extension": ".py",
   "mimetype": "text/x-python",
   "name": "python",
   "nbconvert_exporter": "python",
   "pygments_lexer": "ipython3",
   "version": "3.12.4"
  }
 },
 "nbformat": 4,
 "nbformat_minor": 2
}
