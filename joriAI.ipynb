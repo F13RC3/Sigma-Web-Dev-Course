{
 "cells": [
  {
   "cell_type": "code",
   "execution_count": null,
   "metadata": {},
   "outputs": [],
   "source": [
    "# Given an array a and integer n. Rotate the array towards left n times.\n",
    "#    input a = [1,2,3,4,5], n = 2, output = [3,4,5,1,2]\n",
    "#          a = [1,2,3,4,5], n = 4 , output = [5 1 2 3 4], explanantion - [1 2 3 4 5] -> [2 3 4 5 1] -> [3 4 5 1 2] -> [4 5 1 2 3] -> [5 1 2 3 4]"
   ]
  },
  {
   "cell_type": "code",
   "execution_count": 15,
   "metadata": {},
   "outputs": [
    {
     "data": {
      "text/plain": [
       "[3, 4, 5, 1, 2]"
      ]
     },
     "execution_count": 15,
     "metadata": {},
     "output_type": "execute_result"
    }
   ],
   "source": [
    "a = [1,2,3,4,5]\n",
    "n =2\n",
    "a[n:]+a[:n]"
   ]
  },
  {
   "cell_type": "code",
   "execution_count": 9,
   "metadata": {},
   "outputs": [
    {
     "name": "stdout",
     "output_type": "stream",
     "text": [
      "[3, 4, 5, 1, 2]\n"
     ]
    }
   ],
   "source": [
    "a = [1,2,3,4,5]\n",
    "n =2\n",
    "for i in range(n):\n",
    "    temp = a[0]\n",
    "    a = a[1:]\n",
    "    a.append(temp)\n",
    "print(a)"
   ]
  },
  {
   "cell_type": "code",
   "execution_count": null,
   "metadata": {},
   "outputs": [],
   "source": [
    "# Write a function to find the longest common prefix string amongst an array of strings.\n",
    "#    If there is no common prefix, return an empty string \"\".\n",
    "#    Input: strs = [\"flower\",\"flow\",\"flight\"]\n",
    "#    Output: \"fl\""
   ]
  },
  {
   "cell_type": "code",
   "execution_count": 2,
   "metadata": {},
   "outputs": [],
   "source": [
    "strs = [\"flower\",\"flow\",\"flight\"]\n",
    "outpur = [i for i in strs[0] if i in strs[1]]"
   ]
  },
  {
   "cell_type": "code",
   "execution_count": 12,
   "metadata": {},
   "outputs": [
    {
     "name": "stdout",
     "output_type": "stream",
     "text": [
      "fl\n"
     ]
    }
   ],
   "source": [
    "common_str = ''\n",
    "for st in zip(*strs):\n",
    "    if len(set(st)) == 1:\n",
    "        common_str+=st[0]\n",
    "    else:\n",
    "        break\n",
    "print(common_str)"
   ]
  },
  {
   "cell_type": "code",
   "execution_count": 23,
   "metadata": {},
   "outputs": [
    {
     "name": "stdout",
     "output_type": "stream",
     "text": [
      "['f', 'f', 'f']\n",
      "['l', 'l', 'l']\n",
      "['o', 'o', 'i']\n"
     ]
    },
    {
     "data": {
      "text/plain": [
       "'fl'"
      ]
     },
     "execution_count": 23,
     "metadata": {},
     "output_type": "execute_result"
    }
   ],
   "source": [
    "prefix = \"\"\n",
    "for i in range(len(min(strs, key=len))):\n",
    "    chars = [s[i] for s in strs]\n",
    "    if len(set(chars)) == 1:\n",
    "        prefix += chars[0]\n",
    "    else:\n",
    "        break\n",
    "prefix"
   ]
  },
  {
   "cell_type": "code",
   "execution_count": 17,
   "metadata": {},
   "outputs": [
    {
     "name": "stdout",
     "output_type": "stream",
     "text": [
      "fl\n",
      "fli\n",
      "flow\n",
      "flig\n",
      "flow\n",
      "fligh\n"
     ]
    }
   ],
   "source": [
    "for i in range(len(strs[0])):\n",
    "    for s in strs[1:]:\n",
    "        if len(s) <= i or s[i] != strs[0][i]:\n",
    "            print(s[:i])"
   ]
  }
 ],
 "metadata": {
  "kernelspec": {
   "display_name": "base",
   "language": "python",
   "name": "python3"
  },
  "language_info": {
   "codemirror_mode": {
    "name": "ipython",
    "version": 3
   },
   "file_extension": ".py",
   "mimetype": "text/x-python",
   "name": "python",
   "nbconvert_exporter": "python",
   "pygments_lexer": "ipython3",
   "version": "3.12.4"
  }
 },
 "nbformat": 4,
 "nbformat_minor": 2
}
